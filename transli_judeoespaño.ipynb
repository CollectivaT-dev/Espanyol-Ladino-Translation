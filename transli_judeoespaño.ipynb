{
  "nbformat": 4,
  "nbformat_minor": 0,
  "metadata": {
    "colab": {
      "name": "transli_judeoespaño.ipynb",
      "provenance": [],
      "collapsed_sections": []
    },
    "kernelspec": {
      "name": "python3",
      "display_name": "Python 3"
    },
    "language_info": {
      "name": "python"
    }
  },
  "cells": [
    {
      "cell_type": "code",
      "source": [
        "%%capture\n",
        "!pip install stanza\n",
        "!pip install unidecode"
      ],
      "metadata": {
        "id": "aiD3ZSoK14Ss"
      },
      "execution_count": 1,
      "outputs": []
    },
    {
      "cell_type": "code",
      "execution_count": 2,
      "metadata": {
        "id": "EvwiKcTY1EXv"
      },
      "outputs": [],
      "source": [
        "%%capture\n",
        "import stanza\n",
        "import unidecode\n",
        "\n",
        "stanza.download('es')\n",
        "nlp = stanza.Pipeline('es')"
      ]
    },
    {
      "cell_type": "code",
      "source": [
        "def judeo_parse(s):\n",
        "  if s.find(\"h\") != -1:\n",
        "    indices = [i for i, x in enumerate(s) if x == \"h\"]\n",
        "    flag_h = 0\n",
        "    for h in indices:\n",
        "      string_list = list(s)\n",
        "      if h != 0:\n",
        "        if s[h-2] != \"c\":\n",
        "          string_list[h] = \"\"\n",
        "      else:\n",
        "        string_list[0] = \"\"\n",
        "    s = \"\".join(string_list)\n",
        "  if s.find(\"y\") != -1:\n",
        "    if len(s) == 1:\n",
        "      s = s.replace(\"y\",\"i\")\n",
        "  if s.find(\"ca\") != -1:\n",
        "    s = s.replace(\"ca\",\"ka\")\n",
        "  if s.find(\"co\") != -1:\n",
        "    s = s.replace(\"co\",\"ko\")\n",
        "  if s.find(\"cu\") != -1:\n",
        "    s = s.replace(\"cu\",\"ku\")\n",
        "  if s.find(\"ñ\") != -1:\n",
        "    s = s.replace(\"ñ\",\"ny\")\n",
        "  if s.find(\"qu\") != -1:\n",
        "    s = s.replace(\"qu\",\"k\")\n",
        "  if s.find(\"rd\") != -1:\n",
        "    s = s.replace(\"rd\",\"dr\")\n",
        "  if s.find(\"cr\") != -1:\n",
        "    s = s.replace(\"cr\",\"kr\")\n",
        "  if s.find(\"ll\") != -1:\n",
        "    s = s.replace(\"ll\",\"y\")\n",
        "  if s.find(\"ge\") != -1:\n",
        "    s = s.replace(\"ge\",\"dje\")\n",
        "  if s.find(\"gi\") != -1:\n",
        "    s = s.replace(\"gi\",\"dji\")\n",
        "  if s.find(\"cir\") != -1:\n",
        "    s = s.replace(\"cir\",\"zir\")\n",
        "  if s.find(\"ción\") != -1:\n",
        "    s = s.replace(\"ción\",\"sion\")\n",
        "  if s.find(\"ce\") != -1:\n",
        "    s = s.replace(\"ce\",\"se\")\n",
        "  if s.find(\"ci\") != -1:\n",
        "    s = s.replace(\"ci\",\"si\")\n",
        "  if s.find(\"gu\") != -1:\n",
        "    s = s.replace(\"gu\",\"g\")\n",
        "  if s.find(\"sc\") != -1:\n",
        "    s = s.replace(\"sc\",\"s\")\n",
        "  if s.find(\"zar\") != -1:\n",
        "    s = s.replace(\"zar\",\"sar\")\n",
        "  if s.find(\"ct\") != -1:\n",
        "    s = s.replace(\"ct\",\"kt\")\n",
        "  return s"
      ],
      "metadata": {
        "id": "V7sassJ_DCwt"
      },
      "execution_count": 80,
      "outputs": []
    },
    {
      "cell_type": "code",
      "source": [
        "def complete_word(mayor,menor):\n",
        "  for l in range(len(mayor)-len(menor)):\n",
        "    menor = menor+\" \"\n",
        "  return menor\n",
        "\n",
        "def get_suffix(a,b):\n",
        "  flag = 0\n",
        "  mayor = \"\"\n",
        "  menor = \"\"\n",
        "\n",
        "  if len(a) > flag:\n",
        "    mayor = a\n",
        "    menor = b\n",
        "    flag = len(a)\n",
        "  if len(b) > flag:\n",
        "    mayor = b\n",
        "    menor = a\n",
        "  menor = complete_word(mayor,menor)\n",
        "\n",
        "  f = []\n",
        "  for x, y in zip(mayor,menor):\n",
        "    if x == y:\n",
        "      f.append(x)\n",
        "\n",
        "  h = ''.join([str(elem) for elem in f])\n",
        "\n",
        "  for l in range(len(a)-len(h)):\n",
        "    h = h+\" \"\n",
        "\n",
        "  p = []\n",
        "  for x, y in zip(a,h):\n",
        "    if x != y:\n",
        "      p.append(x)\n",
        "\n",
        "  p = ''.join([str(elem) for elem in p])\n",
        "  \n",
        "  return p"
      ],
      "metadata": {
        "id": "vLnkaqCoE7zw"
      },
      "execution_count": 81,
      "outputs": []
    },
    {
      "cell_type": "code",
      "source": [
        "def conj_verb(verbo_esp,verbo_ladino):\n",
        "  verbo_phrase = verbo_esp.text\n",
        "  verbo_inf = verbo_esp.lemma\n",
        "  if \"ar\" in verbo_phrase[-2] or \"er\" in verbo_phrase[-2] or \"ir\" in verbo_phrase[-2] or \"VerbForm=Inf\" in verbo_esp.feats:\n",
        "    verbo_ladino = verbo_ladino\n",
        "  elif \"ando\" in verbo_phrase:\n",
        "    verbo_ladino = verbo_ladino[:len(verbo_ladino)-2]+\"ando\"\n",
        "  elif \"iendo\" in verbo_phrase:\n",
        "    verbo_ladino = verbo_ladino+\"iendo\"\n",
        "  elif \"ado\" in verbo_phrase:\n",
        "    verbo_ladino = verbo_ladino+\"ado\"\n",
        "  elif \"ido\" in verbo_phrase:\n",
        "    verbo_ladino = verbo_ladino+\"ido\"\n",
        "  else:\n",
        "    suff = get_suffix(verbo_phrase.lower(),verbo_inf)\n",
        "    if \"Number=Sing|Person=1|Tense=Past\" in verbo_esp.feats or \"Number=Sing|Person=3|Tense=Past\" in verbo_esp.feats or \"Number=Sing|Person=1|Tense=Pres\" in verbo_esp.feats:\n",
        "      root_ladino = verbo_ladino[:len(verbo_ladino)-2]\n",
        "      if root_ladino[-1] == suff[:1]:\n",
        "        verbo_ladino = verbo_ladino[:len(verbo_ladino)-3]+suff\n",
        "      else:\n",
        "        verbo_ladino = verbo_ladino[:len(verbo_ladino)-2]+suff\n",
        "    if \"Number=Sing|Person=3|Tense=Fut\" in verbo_esp.feats or \"Number=Sing|Person=1|Tense=Fut\" in verbo_esp.feats or \"Number=Plur|Person=3|Tense=Fut\" in verbo_esp.feats or \"Number=Plur|Person=3|Tense=Past\" in verbo_esp.feats or \"Number=Plur|Person=1|Tense=Fut\" in verbo_esp.feats:\n",
        "      verbo_ladino = verbo_ladino+suff\n",
        "    if \"Number=Sing|Person=2|Tense=Pres\" in verbo_esp.feats or \"Number=Plur|Person=3|Tense=Pres\" in verbo_esp.feats or \"Number=Plur|Person=1|Tense=Pres\" in verbo_esp.feats or \"|Number=Plur|Person=3|Tense=Imp|\" in verbo_esp.feats:\n",
        "      verbo_ladino = verbo_ladino[:len(verbo_ladino)-1]+suff\n",
        "  return verbo_ladino"
      ],
      "metadata": {
        "id": "RS0cM1AHdiBF"
      },
      "execution_count": 82,
      "outputs": []
    },
    {
      "cell_type": "code",
      "source": [
        "def conj_aux(verbo_esp,verbo_ladino):\n",
        "  verbo_phrase = verbo_esp.text\n",
        "  verbo_inf = verbo_esp.lemma\n",
        "  suff = get_suffix(verbo_phrase.lower(),verbo_inf)\n",
        "  if \"Number=Sing|Person=3|Tense=Imp\" in verbo_esp.feats:\n",
        "    verbo_ladino = verbo_ladino[:len(verbo_ladino)-1]+suff\n",
        "  elif \"|Number=Sing|Person=3|Tense=Pres|\" in verbo_esp.feats or \"|Number=Sing|Person=1|Tense=Pres|\" in verbo_esp.feats or \"|Number=Plur|Person=3|Tense=Pres| in verbo_esp.feats\":\n",
        "    verbo_ladino = verbo_ladino[:len(verbo_ladino)-2]+suff\n",
        "  return verbo_ladino"
      ],
      "metadata": {
        "id": "4aHWY3PWx4KP"
      },
      "execution_count": 83,
      "outputs": []
    },
    {
      "cell_type": "code",
      "source": [
        "def conj_adj_sustantivo(word_esp,word_ladino):\n",
        "  if str(word_esp.feats) != \"None\":\n",
        "    if \"Sing\" in word_esp.feats:\n",
        "      return word_ladino\n",
        "    elif \"Plur\" in word_esp.feats:\n",
        "      if (word_esp.text[-2:].find(\"a\") != -1 and word_ladino[-2:].find(\"a\") != -1) or (word_esp.text[-2:].find(\"o\") != -1 and word_ladino[-2:].find(\"o\") != -1) :\n",
        "        suff_word_esp = word_esp.text[len(word_esp.text)-2:]\n",
        "        #print(word_ladino)\n",
        "        root_word_lad = word_ladino[:len(word_ladino)-1]\n",
        "        word_ladino = root_word_lad+suff_word_esp\n",
        "        #print(suff_word_esp)\n",
        "        #print(root_word_lad)\n",
        "        #print(word_ladino)\n",
        "        return word_ladino\n",
        "      elif word_esp.text[-1].find(\"s\") != -1:\n",
        "        if word_esp.text[-2:] == \"es\" and word_ladino[-1] != \"e\":\n",
        "          word_ladino = word_ladino+\"es\"\n",
        "        elif word_esp.text[-3:] == \"ses\" or  word_esp.text[-2:] == \"es\":\n",
        "          word_ladino = word_ladino[:len(word_ladino)-1]+\"es\"\n",
        "        else:\n",
        "          word_ladino = word_ladino+\"s\"\n",
        "        return word_ladino\n",
        "      else:\n",
        "        return word_ladino+\"s\"\n",
        "    else:\n",
        "      return word_ladino\n",
        "  return word_ladino"
      ],
      "metadata": {
        "id": "kR3CTWirj8aS"
      },
      "execution_count": 84,
      "outputs": []
    },
    {
      "cell_type": "code",
      "source": [
        "def translate(phrase):\n",
        "  doc = nlp(phrase)\n",
        "  jud_phrase = \"\"\n",
        "  w = \"\"\n",
        "  for sent in doc.sentences:\n",
        "    for word in sent.words:\n",
        "      flag1 = 0\n",
        "      flag2 = 0\n",
        "      #print(word)\n",
        "      español_word = word.text\n",
        "      mixed_case = not español_word.islower() and not español_word.isupper()\n",
        "      if mixed_case == True:\n",
        "        flag2 = 1\n",
        "      for d in dic:\n",
        "        if word.text.lower() == d[\"src\"]:\n",
        "          ladino_word = d[\"target\"].replace(\"\\n\",\"\")\n",
        "          ladino_word = \" \".join(ladino_word.split())\n",
        "          if word.lemma == ladino_word or word.text.lower() == ladino_word:\n",
        "            w = español_word\n",
        "          else:\n",
        "            w = ladino_word\n",
        "          flag1 = 1\n",
        "      if flag1 == 0:\n",
        "        for d in dic:\n",
        "          if word.lemma == d[\"src\"]:\n",
        "            ladino_word = d[\"target\"].replace(\"\\n\",\"\")\n",
        "            ladino_word = \" \".join(ladino_word.split())\n",
        "            if word.lemma == ladino_word or word.text.lower() == ladino_word:\n",
        "              w = español_word\n",
        "            if word.upos == \"VERB\":\n",
        "              w = conj_verb(word,ladino_word)\n",
        "              flag2 = 0\n",
        "            elif word.upos == \"NOUN\" or word.upos == \"ADJ\":\n",
        "              w = conj_adj_sustantivo(word,ladino_word)\n",
        "            elif word.upos == \"AUX\":\n",
        "              w = conj_aux(word,ladino_word)\n",
        "            elif word.upos == \"DET\":\n",
        "              w = español_word\n",
        "            else:\n",
        "              w = ladino_word\n",
        "            flag1 = 1\n",
        "      if flag1 == 0:\n",
        "        if word.upos == \"PROPN\" or word.upos == \"DET\":\n",
        "          w = word.text\n",
        "        else:\n",
        "          w = judeo_parse(español_word)\n",
        "      if flag2 == 1:\n",
        "        jud_phrase += w.replace(\"\\n\",\"\").capitalize() + \" \"\n",
        "      else:\n",
        "        jud_phrase += w.replace(\"\\n\",\"\") + \" \"\n",
        "  s = jud_phrase.replace(\" .\",\".\").replace(\" ?\",\"?\").replace(\" !\",\"!\").replace(\" ,\",\",\").replace(\"de el\",\"del\").replace('\" ','\"').replace(\" ;\",\";\").replace(\"¿ \",\"\").replace(\"¡ \",\"\").strip()\n",
        "  return unidecode.unidecode(corrector_phrase(s))"
      ],
      "metadata": {
        "id": "WKrx2MDC2JSo"
      },
      "execution_count": 85,
      "outputs": []
    },
    {
      "cell_type": "code",
      "source": [
        "def corrector_phrase(s):\n",
        "  filex = open('dic_esp_lad_phr_v2.txt', 'r', encoding=\"utf-8\")\n",
        "  Lines = filex.readlines()\n",
        "  for a in Lines:\n",
        "    if s.find(a.split(\";\")[0]) != -1:\n",
        "      s = s.replace(a.split(\";\")[0],a.split(\";\")[1].replace(\"\\n\",\"\"))\n",
        "  if s.find(\"del komida\") != -1:\n",
        "    s = s.replace(\"del komida\",\"de la komida\")\n",
        "  if s.find(\"r se\") != -1:\n",
        "    s = s.replace(\"r se\",\"rse\")\n",
        "  if s.find(\"r la\") != -1:\n",
        "    s = s.replace(\"r la\",\"rla\")\n",
        "  if s.find(\"r las\") != -1:\n",
        "    s = s.replace(\"r las\",\"rlas\")\n",
        "  if s.find(\"r lo\") != -1:\n",
        "    s = s.replace(\"r lo\",\"rlo\")\n",
        "  if s.find(\"r los\") != -1:\n",
        "    s = s.replace(\"r las\",\"rlos\")\n",
        "  return s"
      ],
      "metadata": {
        "id": "x2LXbj7U303X"
      },
      "execution_count": 87,
      "outputs": []
    },
    {
      "cell_type": "code",
      "source": [
        "file1 = open('dic_esp_lad_v3.txt', 'r', encoding=\"utf-8\")\n",
        "Lines = file1.readlines()\n",
        "dic=[]\n",
        "for l in Lines:\n",
        "  p = {\"src\":l.split(\";\")[0],\"target\":l.split(\";\")[1]}\n",
        "  dic.append(p)"
      ],
      "metadata": {
        "id": "sWNRbONS-r1F"
      },
      "execution_count": 88,
      "outputs": []
    },
    {
      "cell_type": "code",
      "source": [
        "phrase=\"mujeres\"\n",
        "translate(phrase)"
      ],
      "metadata": {
        "colab": {
          "base_uri": "https://localhost:8080/",
          "height": 35
        },
        "id": "s4woYSitO4FK",
        "outputId": "906b8a30-892c-4c49-e56d-02efd3bdf48b"
      },
      "execution_count": 89,
      "outputs": [
        {
          "output_type": "execute_result",
          "data": {
            "application/vnd.google.colaboratory.intrinsic+json": {
              "type": "string"
            },
            "text/plain": [
              "'mujeres'"
            ]
          },
          "metadata": {},
          "execution_count": 89
        }
      ]
    },
    {
      "cell_type": "markdown",
      "source": [
        "Testing"
      ],
      "metadata": {
        "id": "G3D2GyA1OJk6"
      }
    },
    {
      "cell_type": "code",
      "source": [
        "import pandas as pd\n",
        "\n",
        "df = pd.read_excel(\"una-fraze-al-dia_lad-tur-eng-spa.xlsx\")\n",
        "\n",
        "esp=[]\n",
        "lad_correct = []\n",
        "lad_trans = []\n",
        "\n",
        "for a in df.index:\n",
        "  esp.append(df[\"Español\"][a])\n",
        "  lad_correct.append(df[\"Ladino\"][a])\n",
        "  lad_trans.append(translate(df[\"Español\"][a]))\n",
        "\n",
        "p = {'Español':esp,'Ladino':lad_correct,'Ladino_Trans':lad_trans}\n",
        "\n",
        "df_1 = pd.DataFrame(p)\n",
        "df_1.head()\n",
        "\n",
        "df_1.to_excel(\"translate_esp_ladino.xlsx\")"
      ],
      "metadata": {
        "colab": {
          "base_uri": "https://localhost:8080/"
        },
        "id": "HzGQh988OJSD",
        "outputId": "aa73d611-d0aa-460c-d39d-9142480d0b44"
      },
      "execution_count": 91,
      "outputs": [
        {
          "output_type": "stream",
          "name": "stderr",
          "text": [
            "/usr/local/lib/python3.7/dist-packages/stanza/models/common/beam.py:86: UserWarning: __floordiv__ is deprecated, and its behavior will change in a future version of pytorch. It currently rounds toward 0 (like the 'trunc' function NOT 'floor'). This results in incorrect rounding for negative values. To keep the current behavior, use torch.div(a, b, rounding_mode='trunc'), or for actual floor division, use torch.div(a, b, rounding_mode='floor').\n",
            "  prevK = bestScoresId // numWords\n"
          ]
        }
      ]
    }
  ]
}