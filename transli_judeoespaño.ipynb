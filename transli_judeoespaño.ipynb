{
  "nbformat": 4,
  "nbformat_minor": 0,
  "metadata": {
    "colab": {
      "name": "transli_judeoespaño.ipynb",
      "provenance": []
    },
    "kernelspec": {
      "name": "python3",
      "display_name": "Python 3"
    },
    "language_info": {
      "name": "python"
    }
  },
  "cells": [
    {
      "cell_type": "code",
      "source": [
        "%%capture\n",
        "!pip install stanza"
      ],
      "metadata": {
        "id": "aiD3ZSoK14Ss"
      },
      "execution_count": 7,
      "outputs": []
    },
    {
      "cell_type": "code",
      "execution_count": 9,
      "metadata": {
        "colab": {
          "base_uri": "https://localhost:8080/",
          "height": 416
        },
        "id": "EvwiKcTY1EXv",
        "outputId": "17f0d65a-8e63-424e-d231-6bb6801e3de5"
      },
      "outputs": [
        {
          "output_type": "stream",
          "name": "stderr",
          "text": [
            "2022-02-13 21:34:40 INFO: Downloading default packages for language: es (Spanish)...\n",
            "2022-02-13 21:34:41 INFO: File exists: /root/stanza_resources/es/default.zip.\n",
            "2022-02-13 21:34:47 INFO: Finished downloading models and saved to /root/stanza_resources.\n",
            "2022-02-13 21:34:47 INFO: Loading these models for language: es (Spanish):\n",
            "=======================\n",
            "| Processor | Package |\n",
            "-----------------------\n",
            "| tokenize  | ancora  |\n",
            "| mwt       | ancora  |\n",
            "| pos       | ancora  |\n",
            "| lemma     | ancora  |\n",
            "| depparse  | ancora  |\n",
            "| ner       | conll02 |\n",
            "=======================\n",
            "\n",
            "2022-02-13 21:34:47 INFO: Use device: cpu\n",
            "2022-02-13 21:34:47 INFO: Loading: tokenize\n",
            "2022-02-13 21:34:47 INFO: Loading: mwt\n",
            "2022-02-13 21:34:47 INFO: Loading: pos\n",
            "2022-02-13 21:34:48 INFO: Loading: lemma\n",
            "2022-02-13 21:34:48 INFO: Loading: depparse\n",
            "2022-02-13 21:34:48 INFO: Loading: ner\n",
            "2022-02-13 21:34:49 INFO: Done loading processors!\n"
          ]
        }
      ],
      "source": [
        "%%capture\n",
        "import stanza\n",
        "stanza.download('es')\n",
        "nlp = stanza.Pipeline('es')"
      ]
    },
    {
      "cell_type": "code",
      "source": [
        "file1 = open('dic-judeo-español.txt', 'r', encoding=\"utf-8\")\n",
        "Lines = file1.readlines()\n",
        "dic=[]\n",
        "for l in Lines:\n",
        "  p = {\"src\":l.split(\";\")[0],\"target\":l.split(\";\")[1]}\n",
        "  dic.append(p)"
      ],
      "metadata": {
        "id": "sWNRbONS-r1F"
      },
      "execution_count": 6,
      "outputs": []
    },
    {
      "cell_type": "code",
      "source": [
        "import re, string\n",
        "\n",
        "def normalize(s):\n",
        "    replacements = (\n",
        "        (\"á\", \"a\"),\n",
        "        (\"é\", \"e\"),\n",
        "        (\"í\", \"i\"),\n",
        "        (\"ó\", \"o\"),\n",
        "        (\"ú\", \"u\"),\n",
        "    )\n",
        "    for a, b in replacements:\n",
        "        s = s.replace(a, b).replace(a.upper(), b.upper())\n",
        "    return s"
      ],
      "metadata": {
        "id": "1-hpdbKhCVHi"
      },
      "execution_count": 15,
      "outputs": []
    },
    {
      "cell_type": "code",
      "source": [
        "def remove_punctuation (s):\n",
        "  return re.sub('[%s]' % re.escape(string.punctuation), ' ', s)"
      ],
      "metadata": {
        "id": "Wo_0mnvUCryK"
      },
      "execution_count": 16,
      "outputs": []
    },
    {
      "cell_type": "code",
      "source": [
        "def judeo_parse(s):\n",
        "  if s.find(\"h\") != -1:\n",
        "    indices = [i for i, x in enumerate(s) if x == \"h\"]\n",
        "    flag_h = 0\n",
        "    for h in indices:\n",
        "      string_list = list(s)\n",
        "      if h != 0:\n",
        "        if s[h-2] != \"c\":\n",
        "          string_list[h] = \"\"\n",
        "      else:\n",
        "        string_list[0] = \"\"\n",
        "    s = \"\".join(string_list)\n",
        "  if s.find(\"y\") != -1:\n",
        "    if len(s) == 1:\n",
        "      s = s.replace(\"y\",\"i\")\n",
        "  if s.find(\"ca\") != -1:\n",
        "    s = s.replace(\"ca\",\"ka\")\n",
        "  if s.find(\"co\") != -1:\n",
        "    s = s.replace(\"co\",\"ko\")\n",
        "  if s.find(\"ñ\") != -1:\n",
        "    s = s.replace(\"ñ\",\"ny\")\n",
        "  if s.find(\"qu\") != -1:\n",
        "    s = s.replace(\"qu\",\"k\")\n",
        "  if s.find(\"rd\") != -1:\n",
        "    s = s.replace(\"rd\",\"dr\")\n",
        "  if s.find(\"cr\") != -1:\n",
        "    s = s.replace(\"cr\",\"kr\")\n",
        "  if s.find(\"ll\") != -1:\n",
        "    s = s.replace(\"ll\",\"y\")\n",
        "  if s.find(\"g\") != -1:\n",
        "    s = s.replace(\"g\",\"j\")\n",
        "  return s\n",
        "judeo_parse(\"hoy\")"
      ],
      "metadata": {
        "colab": {
          "base_uri": "https://localhost:8080/",
          "height": 35
        },
        "id": "V7sassJ_DCwt",
        "outputId": "386690f1-681d-4025-8647-08b092b525a5"
      },
      "execution_count": 85,
      "outputs": [
        {
          "output_type": "execute_result",
          "data": {
            "application/vnd.google.colaboratory.intrinsic+json": {
              "type": "string"
            },
            "text/plain": [
              "'oy'"
            ]
          },
          "metadata": {},
          "execution_count": 85
        }
      ]
    },
    {
      "cell_type": "code",
      "source": [
        "phrase=\"estuvieron comprando un perro\""
      ],
      "metadata": {
        "id": "e7CKPkh2As8w"
      },
      "execution_count": 103,
      "outputs": []
    },
    {
      "cell_type": "code",
      "source": [
        "doc = nlp(phrase)\n",
        "jud_phrase = \"\"\n",
        "for sent in doc.sentences:\n",
        "  for word in sent.words:\n",
        "    flag1 = 0\n",
        "    palabra = word.text\n",
        "    palabra = palabra.lower()\n",
        "    palabra = normalize(palabra)\n",
        "    palabra = remove_punctuation(palabra)\n",
        "    if word.upos == \"AUX\":\n",
        "      print(word)\n",
        "      palabra = \"yo \"+ palabra\n",
        "    for d in dic:\n",
        "      if palabra == d[\"src\"]:\n",
        "        palabra = d[\"target\"]\n",
        "        flag1 = 1\n",
        "        break\n",
        "    if flag1 == 0:\n",
        "        palabra = judeo_parse(palabra)\n",
        "    jud_phrase += palabra.replace(\"\\n\",\"\") + \" \"\n",
        "print(jud_phrase)"
      ],
      "metadata": {
        "colab": {
          "base_uri": "https://localhost:8080/"
        },
        "id": "WKrx2MDC2JSo",
        "outputId": "f06fa559-893d-4034-e365-e020feaca2ea"
      },
      "execution_count": 105,
      "outputs": [
        {
          "output_type": "stream",
          "name": "stdout",
          "text": [
            "{\n",
            "  \"id\": 1,\n",
            "  \"text\": \"estuvieron\",\n",
            "  \"lemma\": \"estar\",\n",
            "  \"upos\": \"AUX\",\n",
            "  \"feats\": \"Mood=Ind|Number=Plur|Person=3|Tense=Past|VerbForm=Fin\",\n",
            "  \"head\": 2,\n",
            "  \"deprel\": \"aux\",\n",
            "  \"start_char\": 0,\n",
            "  \"end_char\": 10\n",
            "}\n",
            "yo estuvieron komprando un perro \n"
          ]
        }
      ]
    }
  ]
}