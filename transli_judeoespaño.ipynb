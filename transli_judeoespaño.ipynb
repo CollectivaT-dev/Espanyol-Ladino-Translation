{
  "nbformat": 4,
  "nbformat_minor": 0,
  "metadata": {
    "colab": {
      "name": "transli_judeoespaño.ipynb",
      "provenance": []
    },
    "kernelspec": {
      "name": "python3",
      "display_name": "Python 3"
    },
    "language_info": {
      "name": "python"
    }
  },
  "cells": [
    {
      "cell_type": "code",
      "source": [
        "%%capture\n",
        "!pip install stanza"
      ],
      "metadata": {
        "id": "aiD3ZSoK14Ss"
      },
      "execution_count": 1,
      "outputs": []
    },
    {
      "cell_type": "code",
      "execution_count": 2,
      "metadata": {
        "id": "EvwiKcTY1EXv"
      },
      "outputs": [],
      "source": [
        "%%capture\n",
        "import stanza\n",
        "stanza.download('es')\n",
        "nlp = stanza.Pipeline('es')"
      ]
    },
    {
      "cell_type": "code",
      "source": [
        "file1 = open('dic-judeo-español.txt', 'r', encoding=\"utf-8\")\n",
        "Lines = file1.readlines()\n",
        "dic=[]\n",
        "for l in Lines:\n",
        "  p = {\"src\":l.split(\";\")[0],\"target\":l.split(\";\")[1]}\n",
        "  dic.append(p)"
      ],
      "metadata": {
        "id": "sWNRbONS-r1F"
      },
      "execution_count": 3,
      "outputs": []
    },
    {
      "cell_type": "code",
      "source": [
        "import re, string\n",
        "\n",
        "def normalize(s):\n",
        "    replacements = (\n",
        "        (\"á\", \"a\"),\n",
        "        (\"é\", \"e\"),\n",
        "        (\"í\", \"i\"),\n",
        "        (\"ó\", \"o\"),\n",
        "        (\"ú\", \"u\"),\n",
        "    )\n",
        "    for a, b in replacements:\n",
        "        s = s.replace(a, b).replace(a.upper(), b.upper())\n",
        "    return s"
      ],
      "metadata": {
        "id": "1-hpdbKhCVHi"
      },
      "execution_count": 4,
      "outputs": []
    },
    {
      "cell_type": "code",
      "source": [
        "def remove_punctuation (s):\n",
        "  return re.sub('[%s]' % re.escape(string.punctuation), ' ', s)"
      ],
      "metadata": {
        "id": "Wo_0mnvUCryK"
      },
      "execution_count": 5,
      "outputs": []
    },
    {
      "cell_type": "code",
      "source": [
        "def judeo_parse(s):\n",
        "  if s.find(\"h\") != -1:\n",
        "    indices = [i for i, x in enumerate(s) if x == \"h\"]\n",
        "    flag_h = 0\n",
        "    for h in indices:\n",
        "      string_list = list(s)\n",
        "      if h != 0:\n",
        "        if s[h-2] != \"c\":\n",
        "          string_list[h] = \"\"\n",
        "      else:\n",
        "        string_list[0] = \"\"\n",
        "    s = \"\".join(string_list)\n",
        "  if s.find(\"y\") != -1:\n",
        "    if len(s) == 1:\n",
        "      s = s.replace(\"y\",\"i\")\n",
        "  if s.find(\"ca\") != -1:\n",
        "    s = s.replace(\"ca\",\"ka\")\n",
        "  if s.find(\"co\") != -1:\n",
        "    s = s.replace(\"co\",\"ko\")\n",
        "  if s.find(\"ñ\") != -1:\n",
        "    s = s.replace(\"ñ\",\"ny\")\n",
        "  if s.find(\"qu\") != -1:\n",
        "    s = s.replace(\"qu\",\"k\")\n",
        "  if s.find(\"rd\") != -1:\n",
        "    s = s.replace(\"rd\",\"dr\")\n",
        "  if s.find(\"cr\") != -1:\n",
        "    s = s.replace(\"cr\",\"kr\")\n",
        "  if s.find(\"ll\") != -1:\n",
        "    s = s.replace(\"ll\",\"y\")\n",
        "  if s.find(\"g\") != -1:\n",
        "    s = s.replace(\"g\",\"j\")\n",
        "  return s"
      ],
      "metadata": {
        "id": "V7sassJ_DCwt"
      },
      "execution_count": 6,
      "outputs": []
    },
    {
      "cell_type": "code",
      "source": [
        "def complete_word(mayor,menor):\n",
        "  for l in range(len(mayor)-len(menor)):\n",
        "    menor = menor+\" \"\n",
        "  return menor\n",
        "\n",
        "def get_suffix(a,b):\n",
        "  flag = 0\n",
        "  mayor = \"\"\n",
        "  menor = \"\"\n",
        "\n",
        "  if len(a) > flag:\n",
        "    mayor = a\n",
        "    menor = b\n",
        "    flag = len(a)\n",
        "  if len(b) > flag:\n",
        "    mayor = b\n",
        "    menor = a\n",
        "  menor = complete_word(mayor,menor)\n",
        "\n",
        "  f = []\n",
        "  for x, y in zip(mayor,menor):\n",
        "    if x == y:\n",
        "      f.append(x)\n",
        "\n",
        "  h = ''.join([str(elem) for elem in f])\n",
        "\n",
        "  for l in range(len(a)-len(h)):\n",
        "    h = h+\" \"\n",
        "\n",
        "  p = []\n",
        "  for x, y in zip(a,h):\n",
        "    if x != y:\n",
        "      p.append(x)\n",
        "\n",
        "  p = ''.join([str(elem) for elem in p])\n",
        "  \n",
        "  return p"
      ],
      "metadata": {
        "id": "vLnkaqCoE7zw"
      },
      "execution_count": 71,
      "outputs": []
    },
    {
      "cell_type": "code",
      "source": [
        "def conj_verb(verbo_esp,verbo_ladino):\n",
        "  verbo_phrase = verbo_esp.text\n",
        "  verbo_inf = verbo_esp.lemma\n",
        "  if \"ar\" in verbo_ladino[len(verbo_ladino)-2:len(verbo_ladino)]:\n",
        "    verbo_ladino = ''.join(verbo_ladino.rsplit('ar',1))\n",
        "  if \"er\" in verbo_ladino[len(verbo_ladino)-2:len(verbo_ladino)]:\n",
        "    verbo_ladino = ''.join(verbo_ladino.rsplit('er',1))\n",
        "  if \"ir\" in verbo_ladino[len(verbo_ladino)-2:len(verbo_ladino)]:\n",
        "    verbo_ladino = ''.join(verbo_ladino.rsplit('ir',1))\n",
        "\n",
        "  if \"ando\" in verbo_phrase:\n",
        "    verbo_ladino = verbo_ladino+\"ando\"\n",
        "  elif \"iendo\" in verbo_phrase:\n",
        "    verbo_ladino = verbo_ladino+\"iendo\"\n",
        "  elif \"ado\" in verbo_phrase:\n",
        "    verbo_ladino = verbo_ladino+\"ado\"\n",
        "  elif \"ido\" in verbo_phrase:\n",
        "    verbo_ladino = verbo_ladino+\"ido\"\n",
        "  else:\n",
        "    suff = get_suffix(verbo_phrase,verbo_inf)\n",
        "    verbo_ladino = verbo_ladino+suff\n",
        "  return verbo_ladino"
      ],
      "metadata": {
        "id": "RS0cM1AHdiBF"
      },
      "execution_count": 98,
      "outputs": []
    },
    {
      "cell_type": "code",
      "source": [
        "phrase=\"ayer compré una torta\""
      ],
      "metadata": {
        "id": "e7CKPkh2As8w"
      },
      "execution_count": 97,
      "outputs": []
    },
    {
      "cell_type": "code",
      "source": [
        "def translate(phrase):\n",
        "  doc = nlp(phrase)\n",
        "  jud_phrase = \"\"\n",
        "  w = \"\"\n",
        "  for sent in doc.sentences:\n",
        "    for word in sent.words:\n",
        "      flag1 = 0\n",
        "      español_word = word.text\n",
        "      español_word = español_word.lower()\n",
        "      español_word = remove_punctuation(español_word)\n",
        "      for d in dic:\n",
        "        if word.lemma == d[\"src\"]:\n",
        "          ladino_word = d[\"target\"].replace(\"\\n\",\"\")\n",
        "          if word.lemma == ladino_word:\n",
        "            w = español_word\n",
        "            break\n",
        "          if word.upos == \"VERB\":\n",
        "            w = conj_verb(word,ladino_word)\n",
        "          else:\n",
        "            w = ladino_word\n",
        "          flag1 = 1\n",
        "          break\n",
        "      if flag1 == 0:\n",
        "          w = judeo_parse(español_word)\n",
        "      jud_phrase += w.replace(\"\\n\",\"\") + \" \"\n",
        "  return jud_phrase"
      ],
      "metadata": {
        "id": "WKrx2MDC2JSo"
      },
      "execution_count": 107,
      "outputs": []
    },
    {
      "cell_type": "code",
      "source": [
        "translate(phrase)"
      ],
      "metadata": {
        "colab": {
          "base_uri": "https://localhost:8080/",
          "height": 35
        },
        "id": "s4woYSitO4FK",
        "outputId": "36ba1c09-4369-4b82-e8a7-53af75660da0"
      },
      "execution_count": 108,
      "outputs": [
        {
          "output_type": "execute_result",
          "data": {
            "application/vnd.google.colaboratory.intrinsic+json": {
              "type": "string"
            },
            "text/plain": [
              "'ayer marké una torta '"
            ]
          },
          "metadata": {},
          "execution_count": 108
        }
      ]
    },
    {
      "cell_type": "markdown",
      "source": [
        "Testing"
      ],
      "metadata": {
        "id": "G3D2GyA1OJk6"
      }
    },
    {
      "cell_type": "code",
      "source": [
        "import pandas as pd\n",
        "\n",
        "df = pd.read_excel(\"una-fraze-al-dia_lad-tur-eng-spa.xlsx\")\n",
        "\n",
        "esp=[]\n",
        "lad_correct = []\n",
        "lad_trans = []\n",
        "\n",
        "for a in df.index:\n",
        "  esp.append(df[\"Español\"][a])\n",
        "  lad_correct.append(df[\"Ladino\"][a])\n",
        "  lad_trans.append(translate(df[\"Español\"][a]))\n",
        "\n",
        "p = {'Español':esp,'Ladino':lad_correct,'Ladino_Trans':lad_trans}\n",
        "\n",
        "df_1 = pd.DataFrame(p)\n",
        "df_1.head()"
      ],
      "metadata": {
        "colab": {
          "base_uri": "https://localhost:8080/",
          "height": 261
        },
        "id": "HzGQh988OJSD",
        "outputId": "d17ceb8d-1750-4060-f783-3acff35bb400"
      },
      "execution_count": 109,
      "outputs": [
        {
          "output_type": "stream",
          "name": "stderr",
          "text": [
            "/usr/local/lib/python3.7/dist-packages/stanza/models/common/beam.py:86: UserWarning: __floordiv__ is deprecated, and its behavior will change in a future version of pytorch. It currently rounds toward 0 (like the 'trunc' function NOT 'floor'). This results in incorrect rounding for negative values. To keep the current behavior, use torch.div(a, b, rounding_mode='trunc'), or for actual floor division, use torch.div(a, b, rounding_mode='floor').\n",
            "  prevK = bestScoresId // numWords\n"
          ]
        },
        {
          "output_type": "execute_result",
          "data": {
            "text/html": [
              "\n",
              "  <div id=\"df-7534fd3a-a3f8-4f93-bbc9-6de6fbbf4324\">\n",
              "    <div class=\"colab-df-container\">\n",
              "      <div>\n",
              "<style scoped>\n",
              "    .dataframe tbody tr th:only-of-type {\n",
              "        vertical-align: middle;\n",
              "    }\n",
              "\n",
              "    .dataframe tbody tr th {\n",
              "        vertical-align: top;\n",
              "    }\n",
              "\n",
              "    .dataframe thead th {\n",
              "        text-align: right;\n",
              "    }\n",
              "</style>\n",
              "<table border=\"1\" class=\"dataframe\">\n",
              "  <thead>\n",
              "    <tr style=\"text-align: right;\">\n",
              "      <th></th>\n",
              "      <th>Español</th>\n",
              "      <th>Ladino</th>\n",
              "      <th>Ladino_Trans</th>\n",
              "    </tr>\n",
              "  </thead>\n",
              "  <tbody>\n",
              "    <tr>\n",
              "      <th>0</th>\n",
              "      <td>La habitación del paciente está llena de flore...</td>\n",
              "      <td>La kamareta del hazino esta yena de rozas i bo...</td>\n",
              "      <td>la kamareta de el hazino está yeno  de roza i ...</td>\n",
              "    </tr>\n",
              "    <tr>\n",
              "      <th>1</th>\n",
              "      <td>Moshe está hablando con la familia y les está ...</td>\n",
              "      <td>Moshe esta avlando kon la famiya i les esta da...</td>\n",
              "      <td>mose está avlando kon la famiya i les está dan...</td>\n",
              "    </tr>\n",
              "    <tr>\n",
              "      <th>2</th>\n",
              "      <td>Moshe está muy contento porque el paciente es ...</td>\n",
              "      <td>Moshe esta muy kontente porke el hazino es el ...</td>\n",
              "      <td>mose está muncho orozo por ke el hazino es el ...</td>\n",
              "    </tr>\n",
              "    <tr>\n",
              "      <th>3</th>\n",
              "      <td>La mujer del paciente le trajo a Moshe \"boreka...</td>\n",
              "      <td>La mujer del hazino le trusho a Moshe borekita...</td>\n",
              "      <td>la mujer de el hazino le trajo a mose   boreka...</td>\n",
              "    </tr>\n",
              "    <tr>\n",
              "      <th>4</th>\n",
              "      <td>Moshe llevó las \"borekas\"a casa y le dió la bu...</td>\n",
              "      <td>Moshe se yevo las borekas a kaza i le dio el b...</td>\n",
              "      <td>mose yevó las   borekas   a kaza i le dió la b...</td>\n",
              "    </tr>\n",
              "  </tbody>\n",
              "</table>\n",
              "</div>\n",
              "      <button class=\"colab-df-convert\" onclick=\"convertToInteractive('df-7534fd3a-a3f8-4f93-bbc9-6de6fbbf4324')\"\n",
              "              title=\"Convert this dataframe to an interactive table.\"\n",
              "              style=\"display:none;\">\n",
              "        \n",
              "  <svg xmlns=\"http://www.w3.org/2000/svg\" height=\"24px\"viewBox=\"0 0 24 24\"\n",
              "       width=\"24px\">\n",
              "    <path d=\"M0 0h24v24H0V0z\" fill=\"none\"/>\n",
              "    <path d=\"M18.56 5.44l.94 2.06.94-2.06 2.06-.94-2.06-.94-.94-2.06-.94 2.06-2.06.94zm-11 1L8.5 8.5l.94-2.06 2.06-.94-2.06-.94L8.5 2.5l-.94 2.06-2.06.94zm10 10l.94 2.06.94-2.06 2.06-.94-2.06-.94-.94-2.06-.94 2.06-2.06.94z\"/><path d=\"M17.41 7.96l-1.37-1.37c-.4-.4-.92-.59-1.43-.59-.52 0-1.04.2-1.43.59L10.3 9.45l-7.72 7.72c-.78.78-.78 2.05 0 2.83L4 21.41c.39.39.9.59 1.41.59.51 0 1.02-.2 1.41-.59l7.78-7.78 2.81-2.81c.8-.78.8-2.07 0-2.86zM5.41 20L4 18.59l7.72-7.72 1.47 1.35L5.41 20z\"/>\n",
              "  </svg>\n",
              "      </button>\n",
              "      \n",
              "  <style>\n",
              "    .colab-df-container {\n",
              "      display:flex;\n",
              "      flex-wrap:wrap;\n",
              "      gap: 12px;\n",
              "    }\n",
              "\n",
              "    .colab-df-convert {\n",
              "      background-color: #E8F0FE;\n",
              "      border: none;\n",
              "      border-radius: 50%;\n",
              "      cursor: pointer;\n",
              "      display: none;\n",
              "      fill: #1967D2;\n",
              "      height: 32px;\n",
              "      padding: 0 0 0 0;\n",
              "      width: 32px;\n",
              "    }\n",
              "\n",
              "    .colab-df-convert:hover {\n",
              "      background-color: #E2EBFA;\n",
              "      box-shadow: 0px 1px 2px rgba(60, 64, 67, 0.3), 0px 1px 3px 1px rgba(60, 64, 67, 0.15);\n",
              "      fill: #174EA6;\n",
              "    }\n",
              "\n",
              "    [theme=dark] .colab-df-convert {\n",
              "      background-color: #3B4455;\n",
              "      fill: #D2E3FC;\n",
              "    }\n",
              "\n",
              "    [theme=dark] .colab-df-convert:hover {\n",
              "      background-color: #434B5C;\n",
              "      box-shadow: 0px 1px 3px 1px rgba(0, 0, 0, 0.15);\n",
              "      filter: drop-shadow(0px 1px 2px rgba(0, 0, 0, 0.3));\n",
              "      fill: #FFFFFF;\n",
              "    }\n",
              "  </style>\n",
              "\n",
              "      <script>\n",
              "        const buttonEl =\n",
              "          document.querySelector('#df-7534fd3a-a3f8-4f93-bbc9-6de6fbbf4324 button.colab-df-convert');\n",
              "        buttonEl.style.display =\n",
              "          google.colab.kernel.accessAllowed ? 'block' : 'none';\n",
              "\n",
              "        async function convertToInteractive(key) {\n",
              "          const element = document.querySelector('#df-7534fd3a-a3f8-4f93-bbc9-6de6fbbf4324');\n",
              "          const dataTable =\n",
              "            await google.colab.kernel.invokeFunction('convertToInteractive',\n",
              "                                                     [key], {});\n",
              "          if (!dataTable) return;\n",
              "\n",
              "          const docLinkHtml = 'Like what you see? Visit the ' +\n",
              "            '<a target=\"_blank\" href=https://colab.research.google.com/notebooks/data_table.ipynb>data table notebook</a>'\n",
              "            + ' to learn more about interactive tables.';\n",
              "          element.innerHTML = '';\n",
              "          dataTable['output_type'] = 'display_data';\n",
              "          await google.colab.output.renderOutput(dataTable, element);\n",
              "          const docLink = document.createElement('div');\n",
              "          docLink.innerHTML = docLinkHtml;\n",
              "          element.appendChild(docLink);\n",
              "        }\n",
              "      </script>\n",
              "    </div>\n",
              "  </div>\n",
              "  "
            ],
            "text/plain": [
              "                                             Español  ...                                       Ladino_Trans\n",
              "0  La habitación del paciente está llena de flore...  ...  la kamareta de el hazino está yeno  de roza i ...\n",
              "1  Moshe está hablando con la familia y les está ...  ...  mose está avlando kon la famiya i les está dan...\n",
              "2  Moshe está muy contento porque el paciente es ...  ...  mose está muncho orozo por ke el hazino es el ...\n",
              "3  La mujer del paciente le trajo a Moshe \"boreka...  ...  la mujer de el hazino le trajo a mose   boreka...\n",
              "4  Moshe llevó las \"borekas\"a casa y le dió la bu...  ...  mose yevó las   borekas   a kaza i le dió la b...\n",
              "\n",
              "[5 rows x 3 columns]"
            ]
          },
          "metadata": {},
          "execution_count": 109
        }
      ]
    }
  ]
}